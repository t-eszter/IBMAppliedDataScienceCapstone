{
  "cells": [
    {
      "cell_type": "markdown",
      "id": "0d8d3fab-8c3d-44df-a236-a653b4941d09",
      "metadata": {},
      "outputs": [],
      "source": [
        "<p style=\"text-align:center\">\n",
        "    <a href=\"https://skills.network/?utm_medium=Exinfluencer&utm_source=Exinfluencer&utm_content=000026UJ&utm_term=10006555&utm_id=NA-SkillsNetwork-Channel-SkillsNetworkCoursesIBMDS0321ENSkillsNetwork26802033-2022-01-01\" target=\"_blank\">\n",
        "    <img src=\"https://cf-courses-data.s3.us.cloud-object-storage.appdomain.cloud/assets/logos/SN_web_lightmode.png\" width=\"200\" alt=\"Skills Network Logo\"  />\n",
        "    </a>\n",
        "</p>\n"
      ]
    },
    {
      "cell_type": "markdown",
      "id": "34d64d7c-8238-4304-a2e0-cda21f8c6d46",
      "metadata": {},
      "outputs": [],
      "source": [
        "# **Launch Sites Locations Analysis with Folium**\n"
      ]
    },
    {
      "cell_type": "markdown",
      "id": "33ed8c96-2738-43cf-8638-b1126cf297d8",
      "metadata": {},
      "outputs": [],
      "source": [
        "Estimated time needed: **40** minutes\n"
      ]
    },
    {
      "cell_type": "markdown",
      "id": "c696179a-6b76-4e0d-8697-bffe368846c0",
      "metadata": {},
      "outputs": [],
      "source": [
        "The launch success rate may depend on many factors such as payload mass, orbit type, and so on. It may also depend on the location and proximities of a launch site, i.e., the initial position of rocket trajectories. Finding an optimal location for building a launch site certainly involves many factors and hopefully we could discover some of the factors by analyzing the existing launch site locations.\n"
      ]
    },
    {
      "cell_type": "markdown",
      "id": "cd440ef8-174b-4af1-b4a7-adeaf4055e35",
      "metadata": {},
      "outputs": [],
      "source": [
        "In the previous exploratory data analysis labs, you have visualized the SpaceX launch dataset using `matplotlib` and `seaborn` and discovered some preliminary correlations between the launch site and success rates. In this lab, you will be performing more interactive visual analytics using `Folium`.\n"
      ]
    },
    {
      "cell_type": "markdown",
      "id": "26484d4b-64a1-457d-a7cb-c14734c56b83",
      "metadata": {},
      "outputs": [],
      "source": [
        "## Objectives\n"
      ]
    },
    {
      "cell_type": "markdown",
      "id": "a07076c4-a947-4eb4-9426-77cd24669a61",
      "metadata": {},
      "outputs": [],
      "source": [
        "This lab contains the following tasks:\n",
        "\n",
        "*   **TASK 1:** Mark all launch sites on a map\n",
        "*   **TASK 2:** Mark the success/failed launches for each site on the map\n",
        "*   **TASK 3:** Calculate the distances between a launch site to its proximities\n",
        "\n",
        "After completed the above tasks, you should be able to find some geographical patterns about launch sites.\n"
      ]
    },
    {
      "cell_type": "markdown",
      "id": "91b1c789-332c-4ac8-8587-2094d59d0f30",
      "metadata": {},
      "outputs": [],
      "source": [
        "Let's first import required Python packages for this lab:\n"
      ]
    },
    {
      "cell_type": "code",
      "id": "afd92d14-1ebd-4758-a99b-cadbe9621619",
      "metadata": {},
      "outputs": [],
      "source": [
        "import piplite\nawait piplite.install(['folium'])\nawait piplite.install(['pandas'])"
      ]
    },
    {
      "cell_type": "code",
      "id": "49928456-5209-44e8-a3f7-6ae6ce58e469",
      "metadata": {},
      "outputs": [],
      "source": [
        "import folium\nimport pandas as pd"
      ]
    },
    {
      "cell_type": "code",
      "id": "3255dff8-2cc4-4396-a37a-b343560a9e83",
      "metadata": {},
      "outputs": [],
      "source": [
        "# Import folium MarkerCluster plugin\nfrom folium.plugins import MarkerCluster\n# Import folium MousePosition plugin\nfrom folium.plugins import MousePosition\n# Import folium DivIcon plugin\nfrom folium.features import DivIcon"
      ]
    },
    {
      "cell_type": "markdown",
      "id": "7c96908c-7ed6-4450-abdc-d299c101d46d",
      "metadata": {},
      "outputs": [],
      "source": [
        "If you need to refresh your memory about folium, you may download and refer to this previous folium lab:\n"
      ]
    },
    {
      "cell_type": "markdown",
      "id": "5b1b75d2-7782-48c4-b306-b0e77da66c52",
      "metadata": {},
      "outputs": [],
      "source": [
        "[Generating Maps with Python](https://cf-courses-data.s3.us.cloud-object-storage.appdomain.cloud/IBM-DS0321EN-SkillsNetwork/labs/module\\_3/DV0101EN-3-5-1-Generating-Maps-in-Python-py-v2.0.ipynb)\n"
      ]
    },
    {
      "cell_type": "code",
      "id": "d9aa35f3-5a62-4ef2-93a6-e5cf34c7be1f",
      "metadata": {},
      "outputs": [],
      "source": [
        "## Task 1: Mark all launch sites on a map\n"
      ]
    },
    {
      "cell_type": "markdown",
      "id": "2d3c27a5-21bd-4c2c-8d1d-3409ad5bf982",
      "metadata": {},
      "outputs": [],
      "source": [
        "First, let's try to add each site's location on a map using site's latitude and longitude coordinates\n"
      ]
    },
    {
      "cell_type": "markdown",
      "id": "d5225430-1760-4713-9c45-97b0bd2f23e8",
      "metadata": {},
      "outputs": [],
      "source": [
        "The following dataset with the name `spacex_launch_geo.csv` is an augmented dataset with latitude and longitude added for each site.\n"
      ]
    },
    {
      "cell_type": "code",
      "id": "d64aed1a-8d96-4bf6-8d98-b3e22f25c8c3",
      "metadata": {},
      "outputs": [],
      "source": [
        "# Download and read the `spacex_launch_geo.csv`\nfrom js import fetch\nimport io\n\nURL = 'https://cf-courses-data.s3.us.cloud-object-storage.appdomain.cloud/IBM-DS0321EN-SkillsNetwork/datasets/spacex_launch_geo.csv'\nresp = await fetch(URL)\nspacex_csv_file = io.BytesIO((await resp.arrayBuffer()).to_py())\nspacex_df=pd.read_csv(spacex_csv_file)"
      ]
    },
    {
      "cell_type": "markdown",
      "id": "62018541-2167-49cf-a0dc-703447898c04",
      "metadata": {},
      "outputs": [],
      "source": [
        "Now, you can take a look at what are the coordinates for each site.\n"
      ]
    },
    {
      "cell_type": "code",
      "id": "bbf235ed-a623-4eb7-bf57-a96697333f1d",
      "metadata": {},
      "outputs": [],
      "source": [
        "# Select relevant sub-columns: `Launch Site`, `Lat(Latitude)`, `Long(Longitude)`, `class`\nspacex_df = spacex_df[['Launch Site', 'Lat', 'Long', 'class']]\nlaunch_sites_df = spacex_df.groupby(['Launch Site'], as_index=False).first()\nlaunch_sites_df = launch_sites_df[['Launch Site', 'Lat', 'Long']]\nlaunch_sites_df"
      ]
    },
    {
      "cell_type": "markdown",
      "id": "e6ff48c7-f387-470f-ab02-ef829bff47c4",
      "metadata": {},
      "outputs": [],
      "source": [
        "Above coordinates are just plain numbers that can not give you any intuitive insights about where are those launch sites. If you are very good at geography, you can interpret those numbers directly in your mind. If not, that's fine too. Let's visualize those locations by pinning them on a map.\n"
      ]
    },
    {
      "cell_type": "markdown",
      "id": "c817b950-5e3a-4792-9c4d-938d58c2bbd5",
      "metadata": {},
      "outputs": [],
      "source": [
        "We first need to create a folium `Map` object, with an initial center location to be NASA Johnson Space Center at Houston, Texas.\n"
      ]
    },
    {
      "cell_type": "code",
      "id": "d8224af5-1e83-47ca-ad7f-22e39a13fd78",
      "metadata": {},
      "outputs": [],
      "source": [
        "# Start location is NASA Johnson Space Center\nnasa_coordinate = [29.559684888503615, -95.0830971930759]\nsite_map = folium.Map(location=nasa_coordinate, zoom_start=10)"
      ]
    },
    {
      "cell_type": "markdown",
      "id": "05beb6e1-db2c-499b-8d78-11074e7ce33a",
      "metadata": {},
      "outputs": [],
      "source": [
        "We could use `folium.Circle` to add a highlighted circle area with a text label on a specific coordinate. For example,\n"
      ]
    },
    {
      "cell_type": "code",
      "id": "52ee0204-11ab-4e6c-a444-1e2ad40f3e14",
      "metadata": {},
      "outputs": [],
      "source": [
        "# Create a blue circle at NASA Johnson Space Center's coordinate with a popup label showing its name\ncircle = folium.Circle(nasa_coordinate, radius=1000, color='#d35400', fill=True).add_child(folium.Popup('NASA Johnson Space Center'))\n# Create a blue circle at NASA Johnson Space Center's coordinate with a icon showing its name\nmarker = folium.map.Marker(\n    nasa_coordinate,\n    # Create an icon as a text label\n    icon=DivIcon(\n        icon_size=(20,20),\n        icon_anchor=(0,0),\n        html='<div style=\"font-size: 12; color:#d35400;\"><b>%s</b></div>' % 'NASA JSC',\n        )\n    )\nsite_map.add_child(circle)\nsite_map.add_child(marker)"
      ]
    },
    {
      "cell_type": "markdown",
      "id": "f8344628-2844-408b-a195-4d1a69c83383",
      "metadata": {},
      "outputs": [],
      "source": [
        "and you should find a small yellow circle near the city of Houston and you can zoom-in to see a larger circle.\n"
      ]
    },
    {
      "cell_type": "markdown",
      "id": "c26f16ec-3693-46b0-830b-563655c8bbb6",
      "metadata": {},
      "outputs": [],
      "source": [
        "Now, let's add a circle for each launch site in data frame `launch_sites`\n"
      ]
    },
    {
      "cell_type": "markdown",
      "id": "f1761f3d-f3a5-46e5-99f1-4e8f5eee61f7",
      "metadata": {},
      "outputs": [],
      "source": [
        "*TODO:*  Create and add `folium.Circle` and `folium.Marker` for each launch site on the site map\n"
      ]
    },
    {
      "cell_type": "markdown",
      "id": "34b16fcf-b9d4-4dde-8726-98b47f7eba36",
      "metadata": {},
      "outputs": [],
      "source": [
        "An example of folium.Circle:\n"
      ]
    },
    {
      "cell_type": "markdown",
      "id": "c9f1e0e1-d47d-4c7a-a232-6e938ed12bfa",
      "metadata": {},
      "outputs": [],
      "source": [
        "`folium.Circle(coordinate, radius=1000, color='#000000', fill=True).add_child(folium.Popup(...))`\n"
      ]
    },
    {
      "cell_type": "markdown",
      "id": "0dd17791-d91a-459b-a83d-594cb9b921ac",
      "metadata": {},
      "outputs": [],
      "source": [
        "An example of folium.Marker:\n"
      ]
    },
    {
      "cell_type": "markdown",
      "id": "455f8dd9-27ac-486a-ae32-21dcef99348d",
      "metadata": {},
      "outputs": [],
      "source": [
        "`folium.map.Marker(coordinate, icon=DivIcon(icon_size=(20,20),icon_anchor=(0,0), html='<div style=\"font-size: 12; color:#d35400;\"><b>%s</b></div>' % 'label', ))`\n"
      ]
    },
    {
      "cell_type": "code",
      "id": "dc01aa94-0da1-4d1d-a86b-8da324cfe9d4",
      "metadata": {},
      "outputs": [],
      "source": [
        "# Initial the map\nsite_map = folium.Map(location=nasa_coordinate, zoom_start=5)\n# For each launch site, add a Circle object based on its coordinate (Lat, Long) values. In addition, add Launch site name as a popup label\n"
      ]
    },
    {
      "cell_type": "markdown",
      "id": "d807754f-9605-44a2-b349-804d00fe24f8",
      "metadata": {},
      "outputs": [],
      "source": [
        "The generated map with marked launch sites should look similar to the following:\n"
      ]
    },
    {
      "cell_type": "markdown",
      "id": "cf29d192-ba7c-43b4-8dd3-8bf446a0df03",
      "metadata": {},
      "outputs": [],
      "source": [
        "<center>\n",
        "    <img src=\"https://cf-courses-data.s3.us.cloud-object-storage.appdomain.cloud/IBM-DS0321EN-SkillsNetwork/labs/module_3/images/launch_site_markers.png\">\n",
        "</center>\n"
      ]
    },
    {
      "cell_type": "markdown",
      "id": "b556e83d-dcf1-4206-95fc-f47a991ba5f8",
      "metadata": {},
      "outputs": [],
      "source": [
        "Now, you can explore the map by zoom-in/out the marked areas\n",
        ", and try to answer the following questions:\n",
        "\n",
        "*   Are all launch sites in proximity to the Equator line?\n",
        "*   Are all launch sites in very close proximity to the coast?\n",
        "\n",
        "Also please try to explain your findings.\n"
      ]
    },
    {
      "cell_type": "code",
      "id": "37554e09-2ff6-431c-be7a-b6e571637d7f",
      "metadata": {},
      "outputs": [],
      "source": [
        "# Task 2: Mark the success/failed launches for each site on the map\n"
      ]
    },
    {
      "cell_type": "markdown",
      "id": "daca0565-3dbe-48ee-91f1-5a4b8da6fd15",
      "metadata": {},
      "outputs": [],
      "source": [
        "Next, let's try to enhance the map by adding the launch outcomes for each site, and see which sites have high success rates.\n",
        "Recall that data frame spacex_df has detailed launch records, and the `class` column indicates if this launch was successful or not\n"
      ]
    },
    {
      "cell_type": "code",
      "id": "7b8a10a8-cf29-4b41-a85d-3ca25a9e978c",
      "metadata": {},
      "outputs": [],
      "source": [
        "spacex_df.tail(10)"
      ]
    },
    {
      "cell_type": "markdown",
      "id": "a27e7b2e-b4f3-4079-bf04-aaab30780486",
      "metadata": {},
      "outputs": [],
      "source": [
        "Next, let's create markers for all launch records.\n",
        "If a launch was successful `(class=1)`, then we use a green marker and if a launch was failed, we use a red marker `(class=0)`\n"
      ]
    },
    {
      "cell_type": "markdown",
      "id": "db395648-dbed-427e-9306-ee5e5eb4ba0c",
      "metadata": {},
      "outputs": [],
      "source": [
        "Note that a launch only happens in one of the four launch sites, which means many launch records will have the exact same coordinate. Marker clusters can be a good way to simplify a map containing many markers having the same coordinate.\n"
      ]
    },
    {
      "cell_type": "markdown",
      "id": "637866a5-5008-45a2-83d9-2094d23860e4",
      "metadata": {},
      "outputs": [],
      "source": [
        "Let's first create a `MarkerCluster` object\n"
      ]
    },
    {
      "cell_type": "code",
      "id": "cbfd0ec2-e0e2-4a28-8d78-8a1bfd4afbf0",
      "metadata": {},
      "outputs": [],
      "source": [
        "marker_cluster = MarkerCluster()\n"
      ]
    },
    {
      "cell_type": "markdown",
      "id": "b50f2e48-8f71-497a-a173-388e24e54b5a",
      "metadata": {},
      "outputs": [],
      "source": [
        "*TODO:* Create a new column in `launch_sites` dataframe called `marker_color` to store the marker colors based on the `class` value\n"
      ]
    },
    {
      "cell_type": "code",
      "id": "dddfd043-f6c1-4c9b-afa7-155972e6e509",
      "metadata": {},
      "outputs": [],
      "source": [
        "\n# Apply a function to check the value of `class` column\n# If class=1, marker_color value will be green\n# If class=0, marker_color value will be red"
      ]
    },
    {
      "cell_type": "markdown",
      "id": "d311f453-6e58-414f-b6c3-81751596b88c",
      "metadata": {},
      "outputs": [],
      "source": [
        "*TODO:* For each launch result in `spacex_df` data frame, add a `folium.Marker` to `marker_cluster`\n"
      ]
    },
    {
      "cell_type": "code",
      "id": "ec360972-5ede-4181-b9d0-7f64c793e1e3",
      "metadata": {},
      "outputs": [],
      "source": [
        "# Add marker_cluster to current site_map\nsite_map.add_child(marker_cluster)\n\n# for each row in spacex_df data frame\n# create a Marker object with its coordinate\n# and customize the Marker's icon property to indicate if this launch was successed or failed, \n# e.g., icon=folium.Icon(color='white', icon_color=row['marker_color']\nfor index, record in spacex_df.iterrows():\n    # TODO: Create and add a Marker cluster to the site map\n    # marker = folium.Marker(...)\n    marker_cluster.add_child(marker)\n\nsite_map"
      ]
    },
    {
      "cell_type": "markdown",
      "id": "bb7bef39-c096-4bcb-acbf-d66b425f6950",
      "metadata": {},
      "outputs": [],
      "source": [
        "Your updated map may look like the following screenshots:\n"
      ]
    },
    {
      "cell_type": "markdown",
      "id": "fa1e2220-d9ab-473a-82d8-aa4a4f6b7f36",
      "metadata": {},
      "outputs": [],
      "source": [
        "<center>\n",
        "    <img src=\"https://cf-courses-data.s3.us.cloud-object-storage.appdomain.cloud/IBM-DS0321EN-SkillsNetwork/labs/module_3/images/launch_site_marker_cluster.png\">\n",
        "</center>\n"
      ]
    },
    {
      "cell_type": "markdown",
      "id": "5b7933bc-f712-42a2-944c-c9d14e833804",
      "metadata": {},
      "outputs": [],
      "source": [
        "<center>\n",
        "    <img src=\"https://cf-courses-data.s3.us.cloud-object-storage.appdomain.cloud/IBM-DS0321EN-SkillsNetwork/labs/module_3/images/launch_site_marker_cluster_zoomed.png\">\n",
        "</center>\n"
      ]
    },
    {
      "cell_type": "markdown",
      "id": "9318ea89-4159-4e6b-af8e-eb00153a396c",
      "metadata": {},
      "outputs": [],
      "source": [
        "From the color-labeled markers in marker clusters, you should be able to easily identify which launch sites have relatively high success rates.\n"
      ]
    },
    {
      "cell_type": "code",
      "id": "30fadda5-5a28-49ba-84fe-e91f16b54432",
      "metadata": {},
      "outputs": [],
      "source": [
        "# TASK 3: Calculate the distances between a launch site to its proximities\n"
      ]
    },
    {
      "cell_type": "markdown",
      "id": "4f311348-29ca-415f-88cd-0ec10c50a5e6",
      "metadata": {},
      "outputs": [],
      "source": [
        "Next, we need to explore and analyze the proximities of launch sites.\n"
      ]
    },
    {
      "cell_type": "markdown",
      "id": "3d26dd31-fffe-41a2-a5f6-8d82e7de87ac",
      "metadata": {},
      "outputs": [],
      "source": [
        "Let's first add a `MousePosition` on the map to get coordinate for a mouse over a point on the map. As such, while you are exploring the map, you can easily find the coordinates of any points of interests (such as railway)\n"
      ]
    },
    {
      "cell_type": "code",
      "id": "05d72d51-ff60-4b3b-a81e-a065ce84b40e",
      "metadata": {},
      "outputs": [],
      "source": [
        "# Add Mouse Position to get the coordinate (Lat, Long) for a mouse over on the map\nformatter = \"function(num) {return L.Util.formatNum(num, 5);};\"\nmouse_position = MousePosition(\n    position='topright',\n    separator=' Long: ',\n    empty_string='NaN',\n    lng_first=False,\n    num_digits=20,\n    prefix='Lat:',\n    lat_formatter=formatter,\n    lng_formatter=formatter,\n)\n\nsite_map.add_child(mouse_position)\nsite_map"
      ]
    },
    {
      "cell_type": "markdown",
      "id": "fe613fc8-bf46-4deb-9565-fb78e18d3a54",
      "metadata": {},
      "outputs": [],
      "source": [
        "Now zoom in to a launch site and explore its proximity to see if you can easily find any railway, highway, coastline, etc. Move your mouse to these points and mark down their coordinates (shown on the top-left) in order to the distance to the launch site.\n"
      ]
    },
    {
      "cell_type": "markdown",
      "id": "e7951adb-b3ac-4e83-92d6-01e0954abbe7",
      "metadata": {},
      "outputs": [],
      "source": [
        "Now zoom in to a launch site and explore its proximity to see if you can easily find any railway, highway, coastline, etc. Move your mouse to these points and mark down their coordinates (shown on the top-left) in order to the distance to the launch site.\n"
      ]
    },
    {
      "cell_type": "code",
      "id": "9db5629d-7d90-46e6-bf26-b4ccae0e882e",
      "metadata": {},
      "outputs": [],
      "source": [
        "from math import sin, cos, sqrt, atan2, radians\n\ndef calculate_distance(lat1, lon1, lat2, lon2):\n    # approximate radius of earth in km\n    R = 6373.0\n\n    lat1 = radians(lat1)\n    lon1 = radians(lon1)\n    lat2 = radians(lat2)\n    lon2 = radians(lon2)\n\n    dlon = lon2 - lon1\n    dlat = lat2 - lat1\n\n    a = sin(dlat / 2)**2 + cos(lat1) * cos(lat2) * sin(dlon / 2)**2\n    c = 2 * atan2(sqrt(a), sqrt(1 - a))\n\n    distance = R * c\n    return distance"
      ]
    },
    {
      "cell_type": "markdown",
      "id": "38a035b7-44b3-4192-a6f2-d360c022d46c",
      "metadata": {},
      "outputs": [],
      "source": [
        "*TODO:* Mark down a point on the closest coastline using MousePosition and calculate the distance between the coastline point and the launch site.\n"
      ]
    },
    {
      "cell_type": "code",
      "id": "c90ff877-4642-4e3b-abcc-731fe7724277",
      "metadata": {},
      "outputs": [],
      "source": [
        "# find coordinate of the closet coastline\n# e.g.,: Lat: 28.56367  Lon: -80.57163\n# distance_coastline = calculate_distance(launch_site_lat, launch_site_lon, coastline_lat, coastline_lon)"
      ]
    },
    {
      "cell_type": "code",
      "id": "8454b114-e648-4d4b-81d1-5a271d42ae70",
      "metadata": {},
      "outputs": [],
      "source": [
        "# Create and add a folium.Marker on your selected closest coastline point on the map\n# Display the distance between coastline point and launch site using the icon property \n# for example\n# distance_marker = folium.Marker(\n#    coordinate,\n#    icon=DivIcon(\n#        icon_size=(20,20),\n#        icon_anchor=(0,0),\n#        html='<div style=\"font-size: 12; color:#d35400;\"><b>%s</b></div>' % \"{:10.2f} KM\".format(distance),\n#        )\n#    )"
      ]
    },
    {
      "cell_type": "markdown",
      "id": "c40ffd12-19e5-42ce-8d72-221a1b2fa064",
      "metadata": {},
      "outputs": [],
      "source": [
        "*TODO:* Draw a `PolyLine` between a launch site to the selected coastline point\n"
      ]
    },
    {
      "cell_type": "code",
      "id": "9199863c-7621-46c6-bb36-2c7455ee5fb0",
      "metadata": {},
      "outputs": [],
      "source": [
        "# Create a `folium.PolyLine` object using the coastline coordinates and launch site coordinate\n# lines=folium.PolyLine(locations=coordinates, weight=1)\nsite_map.add_child(lines)"
      ]
    },
    {
      "cell_type": "markdown",
      "id": "8124efb4-0678-44cf-8a7f-d3cc578ffdec",
      "metadata": {},
      "outputs": [],
      "source": [
        "Your updated map with distance line should look like the following screenshot:\n"
      ]
    },
    {
      "cell_type": "markdown",
      "id": "db8310fd-caf4-428c-8547-8715a8c162bf",
      "metadata": {},
      "outputs": [],
      "source": [
        "<center>\n",
        "    <img src=\"https://cf-courses-data.s3.us.cloud-object-storage.appdomain.cloud/IBM-DS0321EN-SkillsNetwork/labs/module_3/images/launch_site_marker_distance.png\">\n",
        "</center>\n"
      ]
    },
    {
      "cell_type": "markdown",
      "id": "1037c64a-2870-4f2b-bb86-3f1791831cb8",
      "metadata": {},
      "outputs": [],
      "source": [
        "*TODO:* Similarly, you can draw a line betwee a launch site to its closest city, railway, highway, etc. You need to use `MousePosition` to find the their coordinates on the map first\n"
      ]
    },
    {
      "cell_type": "markdown",
      "id": "67f9efef-1652-4019-b34c-efda3df1bb07",
      "metadata": {},
      "outputs": [],
      "source": [
        "A railway map symbol may look like this:\n"
      ]
    },
    {
      "cell_type": "markdown",
      "id": "ea912f77-d0e6-4ff7-887e-d8616c68a2dd",
      "metadata": {},
      "outputs": [],
      "source": [
        "<center>\n",
        "    <img src=\"https://cf-courses-data.s3.us.cloud-object-storage.appdomain.cloud/IBM-DS0321EN-SkillsNetwork/labs/module_3/images/railway.png\">\n",
        "</center>\n"
      ]
    },
    {
      "cell_type": "markdown",
      "id": "7cd90881-dc25-4e06-84dd-b1035fcdf3f9",
      "metadata": {},
      "outputs": [],
      "source": [
        "A highway map symbol may look like this:\n"
      ]
    },
    {
      "cell_type": "markdown",
      "id": "6a4be20c-75b5-4d3c-a19e-4e50fe54ce65",
      "metadata": {},
      "outputs": [],
      "source": [
        "<center>\n",
        "    <img src=\"https://cf-courses-data.s3.us.cloud-object-storage.appdomain.cloud/IBM-DS0321EN-SkillsNetwork/labs/module_3/images/highway.png\">\n",
        "</center>\n"
      ]
    },
    {
      "cell_type": "markdown",
      "id": "cb9f6ed7-05a6-4b56-9796-1c30b4e89c66",
      "metadata": {},
      "outputs": [],
      "source": [
        "A city map symbol may look like this:\n"
      ]
    },
    {
      "cell_type": "markdown",
      "id": "094b0d80-96e6-4d32-99ab-c235deb5c090",
      "metadata": {},
      "outputs": [],
      "source": [
        "<center>\n",
        "    <img src=\"https://cf-courses-data.s3.us.cloud-object-storage.appdomain.cloud/IBM-DS0321EN-SkillsNetwork/labs/module_3/images/city.png\">\n",
        "</center>\n"
      ]
    },
    {
      "cell_type": "code",
      "id": "db993d95-8508-4c70-b9b6-f1972a1bc79d",
      "metadata": {},
      "outputs": [],
      "source": [
        "# Create a marker with distance to a closest city, railway, highway, etc.\n# Draw a line between the marker to the launch site\n"
      ]
    },
    {
      "cell_type": "code",
      "id": "f6cce6dd-3d88-457a-83a7-0eb52fa30d24",
      "metadata": {},
      "outputs": [],
      "source": [
        ""
      ]
    },
    {
      "cell_type": "code",
      "id": "2f39c9f9-256b-4221-bf7b-5cfd3799295d",
      "metadata": {},
      "outputs": [],
      "source": [
        ""
      ]
    },
    {
      "cell_type": "markdown",
      "id": "ab7c535a-dc5e-4dd2-97e8-79bfbd0b5b6f",
      "metadata": {},
      "outputs": [],
      "source": [
        "After you plot distance lines to the proximities, you can answer the following questions easily:\n",
        "\n",
        "*   Are launch sites in close proximity to railways?\n",
        "*   Are launch sites in close proximity to highways?\n",
        "*   Are launch sites in close proximity to coastline?\n",
        "*   Do launch sites keep certain distance away from cities?\n",
        "\n",
        "Also please try to explain your findings.\n"
      ]
    },
    {
      "cell_type": "markdown",
      "id": "f8759f30-df13-448e-9383-91746e99b673",
      "metadata": {},
      "outputs": [],
      "source": [
        "# Next Steps:\n",
        "\n",
        "Now you have discovered many interesting insights related to the launch sites' location using folium, in a very interactive way. Next, you will need to build a dashboard using Ploty Dash on detailed launch records.\n"
      ]
    },
    {
      "cell_type": "markdown",
      "id": "1db65005-8700-461f-beb3-7fb34ac80649",
      "metadata": {},
      "outputs": [],
      "source": [
        "## Authors\n"
      ]
    },
    {
      "cell_type": "markdown",
      "id": "1528c224-25af-45ff-bf26-b21ce01a9b87",
      "metadata": {},
      "outputs": [],
      "source": [
        "[Pratiksha Verma](https://www.linkedin.com/in/pratiksha-verma-6487561b1/?utm_medium=Exinfluencer&utm_source=Exinfluencer&utm_content=000026UJ&utm_term=10006555&utm_id=NA-SkillsNetwork-Channel-SkillsNetworkCoursesIBMDS0321ENSkillsNetwork865-2022-01-01)\n"
      ]
    },
    {
      "cell_type": "markdown",
      "id": "57085c9b-32a1-475a-8270-d1d91a3f460c",
      "metadata": {},
      "outputs": [],
      "source": [
        "## Change Log\n"
      ]
    },
    {
      "cell_type": "markdown",
      "id": "18c92185-fe35-4673-9ce3-84746c7e6e36",
      "metadata": {},
      "outputs": [],
      "source": [
        "| Date (YYYY-MM-DD) | Version | Changed By      | Change Description      |\n",
        "| ----------------- | ------- | -------------   | ----------------------- |\n",
        "| 2022-11-09        | 1.0     | Pratiksha Verma | Converted initial version to Jupyterlite|\n"
      ]
    },
    {
      "cell_type": "markdown",
      "id": "ee36b2d0-feaa-438a-bb8b-6a5d438ed950",
      "metadata": {},
      "outputs": [],
      "source": [
        "### <h3 align=\"center\"> IBM Corporation 2022. All rights reserved. <h3/>\n"
      ]
    }
  ],
  "metadata": {
    "language_info": {
      "codemirror_mode": {
        "name": "python",
        "version": 3
      },
      "file_extension": ".py",
      "mimetype": "text/x-python",
      "name": "python",
      "nbconvert_exporter": "python",
      "pygments_lexer": "ipython3",
      "version": "3.8"
    },
    "kernelspec": {
      "name": "python",
      "display_name": "Pyolite",
      "language": "python"
    }
  },
  "nbformat": 4,
  "nbformat_minor": 4
}